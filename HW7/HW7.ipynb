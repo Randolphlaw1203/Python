{
 "cells": [
  {
   "cell_type": "code",
   "execution_count": null,
   "metadata": {},
   "outputs": [],
   "source": [
    "# Average departure delay\n",
    "\n",
    "# For each airline per airport, what is the average departure delay?\n",
    "\n",
    "# AIRLINE\n",
    "# ORIGIN AIRPORT\n",
    "# total number of flight\n",
    "# Operated rate (% of flights that did not cancel)\n",
    "# Delay rate (departure) --> exclude cancelled flight\n",
    "# Average delay minutes (departure) --> exclude non-delay flight\n",
    "\n",
    "import pandas as pd\n",
    "import numpy as np\n",
    "\n",
    "df_airports = pd.read_csv('./airports.csv')\n",
    "df_airlines = pd.read_csv('./airlines.csv')\n",
    "df_flights = pd.read_csv('./flights.csv')\n",
    "\n",
    "# group by\n",
    "df_output = df_flights.groupby(['AIRLINE','ORIGIN_AIRPORT']).agg({\n",
    "  'FLIGHT_NUMBER':'count',\n",
    "  'CANCELLED': lambda x: (x == 0).sum(),\n",
    "  'DEPARTURE_DELAY': [lambda x: (x > 0).sum(), lambda x: x[x > 0].mean()]\n",
    "})\n",
    "\n",
    "# rename the columns\n",
    "df_output.columns = ['TOTAL_FLIGHTS', 'NON_CANCELLED_FLIGHTS', 'NUM_DELAYED_FLIGHTS', 'AVG_DEPARTURE_DELAY']\n",
    "\n",
    "# calculate the Operated rate and Delay rate\n",
    "df_output['OPERATED_RATE_%'] = df_output['NON_CANCELLED_FLIGHTS'] / df_output['TOTAL_FLIGHTS']*100\n",
    "df_output['DELAY_RATE_%'] = df_output['NUM_DELAYED_FLIGHTS'] / df_output['NON_CANCELLED_FLIGHTS']*100\n",
    "\n",
    "# rearrange the order of the columns\n",
    "df_output.loc[:, ['TOTAL_FLIGHTS', 'NON_CANCELLED_FLIGHTS', \n",
    "                  'NUM_DELAYED_FLIGHTS', 'OPERATED_RATE_%', \n",
    "                  'DELAY_RATE_%', 'AVG_DEPARTURE_DELAY'\n",
    "                  ]]"
   ]
  },
  {
   "cell_type": "code",
   "execution_count": null,
   "metadata": {},
   "outputs": [],
   "source": []
  }
 ],
 "metadata": {
  "kernelspec": {
   "display_name": "Python 3",
   "language": "python",
   "name": "python3"
  },
  "language_info": {
   "codemirror_mode": {
    "name": "ipython",
    "version": 3
   },
   "file_extension": ".py",
   "mimetype": "text/x-python",
   "name": "python",
   "nbconvert_exporter": "python",
   "pygments_lexer": "ipython3",
   "version": "3.9.6"
  }
 },
 "nbformat": 4,
 "nbformat_minor": 2
}
